{
 "cells": [
  {
   "cell_type": "code",
   "execution_count": 5,
   "metadata": {},
   "outputs": [],
   "source": [
    "from sipyco.pc_rpc import Client\n",
    "from driver_topticadlc import TopticaDLCPro, DLCpro\n",
    "\n",
    "remote = Client(\"137.222.69.28\", 3272, \"TopticaDLCPro\")\n",
    "remote.open()"
   ]
  },
  {
   "cell_type": "code",
   "execution_count": 6,
   "metadata": {},
   "outputs": [],
   "source": [
    "remote.close()"
   ]
  },
  {
   "cell_type": "code",
   "execution_count": 2,
   "metadata": {},
   "outputs": [
    {
     "data": {
      "text/plain": [
       "{'docstring': 'Thin wrapper for the Toptica SDK, to match the format that ARTIQ expects for initialisation\\n\\nTo use this object, either use it in a context manager::\\n\\n    driver = TopticaDLCPro(...)\\n\\n    with driver:\\n        print(driver.get_laser().label.get())\\n\\nOr open a connection manually which you will close later::\\n\\n    driver = TopticaDLCPro(...)\\n\\n    driver.open()\\n\\n    ...\\n\\n    driver.close()',\n",
       " 'methods': {'close': ({'args': ['self'],\n",
       "    'varargs': None,\n",
       "    'varkw': None,\n",
       "    'defaults': None,\n",
       "    'kwonlyargs': [],\n",
       "    'kwonlydefaults': None,\n",
       "    'annotations': {}},\n",
       "   None),\n",
       "  'get_dlcpro': ({'args': ['self'],\n",
       "    'varargs': None,\n",
       "    'varkw': None,\n",
       "    'defaults': None,\n",
       "    'kwonlyargs': [],\n",
       "    'kwonlydefaults': None,\n",
       "    'annotations': {'return': 'DLCpro'}},\n",
       "   \"Access the raw DLC Pro driver object\\n\\nUsers should prefer to use the get_laser() function, so the details of\\nwhich laser you're accessing can be stored in device_db\"),\n",
       "  'get_falc': ({'args': ['self'],\n",
       "    'varargs': None,\n",
       "    'varkw': None,\n",
       "    'defaults': None,\n",
       "    'kwonlyargs': [],\n",
       "    'kwonlydefaults': None,\n",
       "    'annotations': {'return': 'DigifalcBoard'}},\n",
       "   'Access the FALC associated with this laser if it exists\\n\\nReturn the FALC configured during setup. To associate a falc with this\\nlaser, pass e.g. `falc = 1` during setup (or as part of your device_db\\nif using ARTIQ).\\n\\nIf this laser has no FALC associated with it, this function will raise a\\nTypeError.'),\n",
       "  'get_laser': ({'args': ['self', 'laser'],\n",
       "    'varargs': None,\n",
       "    'varkw': None,\n",
       "    'defaults': (None,),\n",
       "    'kwonlyargs': [],\n",
       "    'kwonlydefaults': None,\n",
       "    'annotations': {'return': 'Laser'}},\n",
       "   'Access the laser driver\\n\\nReturns either self.get_dlcpro().laser1 or self.get_dlcpro().laser2\\ndepending on which is stored in device_db'),\n",
       "  'open': ({'args': ['self'],\n",
       "    'varargs': None,\n",
       "    'varkw': None,\n",
       "    'defaults': None,\n",
       "    'kwonlyargs': [],\n",
       "    'kwonlydefaults': None,\n",
       "    'annotations': {}},\n",
       "   None),\n",
       "  'ping': ({'args': ['self'],\n",
       "    'varargs': None,\n",
       "    'varkw': None,\n",
       "    'defaults': None,\n",
       "    'kwonlyargs': [],\n",
       "    'kwonlydefaults': None,\n",
       "    'annotations': {}},\n",
       "   'Check if the DLC Pro is reachable'),\n",
       "  'terminate': ({'args': ['self'],\n",
       "    'defaults': None,\n",
       "    'varargs': None,\n",
       "    'varkw': None,\n",
       "    'kwonlyargs': [],\n",
       "    'kwonlydefaults': []},\n",
       "   'Terminate the server.')}}"
      ]
     },
     "execution_count": 2,
     "metadata": {},
     "output_type": "execute_result"
    }
   ],
   "source": [
    "remote.get_rpc_method_list()"
   ]
  },
  {
   "cell_type": "code",
   "execution_count": 11,
   "metadata": {},
   "outputs": [
    {
     "ename": "AttributeError",
     "evalue": "",
     "output_type": "error",
     "traceback": [
      "\u001b[0;31m---------------------------------------------------------------------------\u001b[0m",
      "\u001b[0;31mAttributeError\u001b[0m                            Traceback (most recent call last)",
      "Cell \u001b[0;32mIn[11], line 2\u001b[0m\n\u001b[1;32m      1\u001b[0m remote\u001b[38;5;241m.\u001b[39mopen()\n\u001b[0;32m----> 2\u001b[0m \u001b[43mremote\u001b[49m\u001b[38;5;241;43m.\u001b[39;49m\u001b[43m__do_rpc\u001b[49m(\u001b[38;5;124m\"\u001b[39m\u001b[38;5;124m__getattribute__\u001b[39m\u001b[38;5;124m\"\u001b[39m, \u001b[38;5;124m\"\u001b[39m\u001b[38;5;124m'\u001b[39m\u001b[38;5;124m_dlcpro\u001b[39m\u001b[38;5;124m'\u001b[39m\u001b[38;5;124m\"\u001b[39m)\n",
      "File \u001b[0;32m~/anaconda3/envs/artiq/lib/python3.12/site-packages/sipyco/pc_rpc.py:184\u001b[0m, in \u001b[0;36mClient.__getattr__\u001b[0;34m(self, name)\u001b[0m\n\u001b[1;32m    182\u001b[0m \u001b[38;5;28;01mdef\u001b[39;00m\u001b[38;5;250m \u001b[39m\u001b[38;5;21m__getattr__\u001b[39m(\u001b[38;5;28mself\u001b[39m, name):\n\u001b[1;32m    183\u001b[0m     \u001b[38;5;28;01mif\u001b[39;00m name \u001b[38;5;129;01mnot\u001b[39;00m \u001b[38;5;129;01min\u001b[39;00m \u001b[38;5;28mself\u001b[39m\u001b[38;5;241m.\u001b[39m__valid_methods:\n\u001b[0;32m--> 184\u001b[0m         \u001b[38;5;28;01mraise\u001b[39;00m \u001b[38;5;167;01mAttributeError\u001b[39;00m\n\u001b[1;32m    186\u001b[0m     \u001b[38;5;28;01mdef\u001b[39;00m\u001b[38;5;250m \u001b[39m\u001b[38;5;21mproxy\u001b[39m(\u001b[38;5;241m*\u001b[39margs, \u001b[38;5;241m*\u001b[39m\u001b[38;5;241m*\u001b[39mkwargs):\n\u001b[1;32m    187\u001b[0m         \u001b[38;5;28;01mreturn\u001b[39;00m \u001b[38;5;28mself\u001b[39m\u001b[38;5;241m.\u001b[39m__do_rpc(name, args, kwargs)\n",
      "\u001b[0;31mAttributeError\u001b[0m: "
     ]
    }
   ],
   "source": [
    "remote.open()\n",
    "remote.__do_rpc(\"__getattribute__\", \"'_dlcpro'\")"
   ]
  }
 ],
 "metadata": {
  "kernelspec": {
   "display_name": "artiq",
   "language": "python",
   "name": "python3"
  },
  "language_info": {
   "codemirror_mode": {
    "name": "ipython",
    "version": 3
   },
   "file_extension": ".py",
   "mimetype": "text/x-python",
   "name": "python",
   "nbconvert_exporter": "python",
   "pygments_lexer": "ipython3",
   "version": "3.12.7"
  }
 },
 "nbformat": 4,
 "nbformat_minor": 2
}
