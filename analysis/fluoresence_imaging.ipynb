{
 "cells": [
  {
   "cell_type": "markdown",
   "metadata": {},
   "source": [
    "We are going to analyse the number of atoms in a MOT using fluoresence imaging.\n",
    "\n",
    "This is a VERY rough estimate and should only be trusted to within an order of magnitude or so\n",
    "\n",
    "We proceed following Heathers `Simplified system for creating a BEC`"
   ]
  },
  {
   "cell_type": "code",
   "execution_count": 7,
   "metadata": {},
   "outputs": [],
   "source": [
    "# Define SI unit prefixes\n",
    "nm = nHz = nA = nV = nW = 1e-9\n",
    "um = uHz = uA = uV = uW = 1e-6\n",
    "mm = mHz = mA = mV = mW = 1e-3\n",
    "Hz = A = V = W = 1\n",
    "kHz = kA = kV = kW = 1e3\n",
    "MHz = MA = MV = MW = 1e6\n",
    "GHz = GA = GV = GW = 1e9"
   ]
  },
  {
   "cell_type": "code",
   "execution_count": 8,
   "metadata": {},
   "outputs": [],
   "source": [
    "# automatic generation of SI unit prefixes\n",
    "# m, Hz, A, V, W\n",
    "# n, u, m, [], k, M, G\n",
    "\n",
    "for unit in ['m', 'Hz', 'A', 'V', 'W']:\n",
    "    for prefix in ['n', 'u', 'm', '', 'k', 'M', 'G']:      \n",
    "        exec(str(prefix + unit + \" = 1e\" + str(3 * ([\"n\", \"u\", \"m\", \"\", \"k\", \"M\", \"G\"].index(prefix) - 3))))"
   ]
  },
  {
   "cell_type": "code",
   "execution_count": 9,
   "metadata": {},
   "outputs": [],
   "source": [
    "import numpy as np\n",
    "\n",
    "MHz = 1e6\n",
    "nm = 1e-9\n",
    "mm = 1e-3\n",
    "cm = 1e-2\n",
    "mW = 1e-3\n",
    "W = 1\n",
    "V = 1\n",
    "A = 1\n",
    "inch = 2.54*cm\n",
    "\n",
    "# fundamental constants\n",
    "I_SAT = 3.846*mW/cm**2\n",
    "\n",
    "# MOT constants\n",
    "D2_LINEWIDTH = 6.065*MHz\n",
    "TRAP_WAVELENGTH = 780.24*nm\n",
    "UNCOATED_INTERFACES = 0\n",
    "\n",
    "# photodiode constants\n",
    "RESPONSIVITY = 0.585  # A/W\n",
    "GAIN = 4.75e6 # V/A in high-Z"
   ]
  },
  {
   "cell_type": "code",
   "execution_count": 10,
   "metadata": {},
   "outputs": [],
   "source": [
    "def scatteringRate(Io,Isat,detuning,linewidth = D2_LINEWIDTH):\n",
    "    \"\"\"\n",
    "    Calculate `R` the scattering rate of atoms in the MOT.\n",
    "\n",
    "    All values should be in SI units.\n",
    "    \"\"\"\n",
    "    I = Io/Isat\n",
    "    return I*np.pi*linewidth / (1 + I + 4*(detuning/linewidth)**2)"
   ]
  },
  {
   "cell_type": "code",
   "execution_count": 11,
   "metadata": {},
   "outputs": [
    {
     "name": "stdout",
     "output_type": "stream",
     "text": [
      "min 1 inch -> 15cm:  0.022520332404333234\n",
      "max 1 inch -> 16cm:  0.019793260902246007\n",
      "variation: 12.1%\n"
     ]
    }
   ],
   "source": [
    "def solidAngle(lensDiameter, distanceFromMOT):\n",
    "    \"\"\"\n",
    "    Calculate the solid angle of a lens of diameter `lensDiameter` at a distance `distanceFromMOT` from the MOT.\n",
    "\n",
    "    All values should be in SI units.\n",
    "    \"\"\"\n",
    "    lensArea = np.pi * (lensDiameter/2)**2\n",
    "    totalArea = 4 * np.pi * distanceFromMOT**2\n",
    "    return 4 * np.pi * lensArea / totalArea\n",
    "\n",
    "\n",
    "minimal = solidAngle(1 * inch, 15 * cm)\n",
    "maximal = solidAngle(1 * inch, 16 * cm)\n",
    "print(\"min 1 inch -> 15cm: \",minimal)\n",
    "print(\"max 1 inch -> 16cm: \",maximal)\n",
    "print(f\"variation: {abs(maximal-minimal)/minimal*100:.1f}%\")"
   ]
  },
  {
   "cell_type": "code",
   "execution_count": 12,
   "metadata": {},
   "outputs": [],
   "source": [
    "def photonEnergy(laserWavelength):\n",
    "    \"\"\"\n",
    "    Calculate the energy of a photon with wavelength `laserWavelength`.\n",
    "\n",
    "    All values should be in SI units.\n",
    "    \"\"\"\n",
    "    return 6.62607015e-34 * 2.99792458e8 / laserWavelength\n"
   ]
  },
  {
   "cell_type": "code",
   "execution_count": 13,
   "metadata": {},
   "outputs": [],
   "source": [
    "def photoCurrent(voltage, gain = GAIN):\n",
    "    \"\"\"\n",
    "    Calculate the photocurrent from a photodiode with voltage `voltage`.\n",
    "\n",
    "    All values should be in SI units.\n",
    "    \"\"\"\n",
    "    return voltage / gain"
   ]
  },
  {
   "cell_type": "code",
   "execution_count": 14,
   "metadata": {},
   "outputs": [],
   "source": [
    "def I0(totalPower):\n",
    "    \"\"\"\n",
    "    Calculate the intensity of the trapping laser\n",
    "\n",
    "    we assume the totalPower is shared across 4 beams, then two are retroreflected\n",
    "\n",
    "    Each beam is assumed to be a 1 inch circle\n",
    "\n",
    "    All values should be in SI units.\n",
    "    \"\"\"\n",
    "    totalArea = 6 * np.pi * (0.5 * inch)**2\n",
    "    return 6/4 * totalPower / totalArea"
   ]
  },
  {
   "cell_type": "code",
   "execution_count": null,
   "metadata": {},
   "outputs": [
    {
     "name": "stdout",
     "output_type": "stream",
     "text": [
      "solid angle: 0.023 sr\n",
      "photocurrent: 2.38e-07 A\n",
      "photon energy: 2.55e-19 J\n",
      "scattering rate: 1.43 MHz\n"
     ]
    }
   ],
   "source": [
    "VOLTAGE_DIFF = (3.57 - 3.34) * V\n",
    "TRAPPING_POWER = 75 * mW\n",
    "\n",
    "solidangle = solidAngle(1 * inch, 15 * cm)\n",
    "photocurrent = photoCurrent(VOLTAGE_DIFF)\n",
    "photonenergy = photonEnergy(TRAP_WAVELENGTH)\n",
    "scatteringrate = scatteringRate(I0(TRAPPING_POWER), I_SAT, 10 * MHz)\n",
    "\n",
    "print(f\"solid angle: {solidangle:.3f} sr\")\n",
    "print(f\"photocurrent: {photocurrent:.2e} A\")\n",
    "print(f\"photon energy: {photonenergy:.2e} J\")\n",
    "print(f\"scattering rate: {scatteringrate/MHz:.2f} MHz\")"
   ]
  },
  {
   "cell_type": "code",
   "execution_count": 16,
   "metadata": {},
   "outputs": [
    {
     "name": "stdout",
     "output_type": "stream",
     "text": [
      "6.24e+08 atoms in the MOT\n"
     ]
    }
   ],
   "source": [
    "atomNumber = 4 * np.pi * photocurrent\n",
    "atomNumber /= solidangle * RESPONSIVITY * photonenergy * scatteringrate * 0.96**UNCOATED_INTERFACES\n",
    "\n",
    "print(f\"{atomNumber:.2e} atoms in the MOT\")"
   ]
  }
 ],
 "metadata": {
  "kernelspec": {
   "display_name": "artiq",
   "language": "python",
   "name": "python3"
  },
  "language_info": {
   "codemirror_mode": {
    "name": "ipython",
    "version": 3
   },
   "file_extension": ".py",
   "mimetype": "text/x-python",
   "name": "python",
   "nbconvert_exporter": "python",
   "pygments_lexer": "ipython3",
   "version": "3.10.14"
  }
 },
 "nbformat": 4,
 "nbformat_minor": 2
}
