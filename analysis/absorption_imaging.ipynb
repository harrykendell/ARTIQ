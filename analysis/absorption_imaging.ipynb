{
 "cells": [
  {
   "cell_type": "code",
   "execution_count": 5,
   "metadata": {},
   "outputs": [],
   "source": [
    "# Define SI unit prefixes\n",
    "nm = nHz = nA = nV = nW = ns = 1e-9\n",
    "um = uHz = uA = uV = uW = us = 1e-6\n",
    "mm = mHz = mA = mV = mW = ms = 1e-3\n",
    "cm = 1e-2\n",
    "Hz = A = V = W = s =1\n",
    "kHz = kA = kV = kW = 1e3\n",
    "MHz = MA = MV = MW = 1e6\n",
    "GHz = GA = GV = GW = 1e9"
   ]
  },
  {
   "cell_type": "code",
   "execution_count": 6,
   "metadata": {},
   "outputs": [
    {
     "name": "stdout",
     "output_type": "stream",
     "text": [
      "max power before the camera cries is 1.97uW if exposed for 1000.00us\n"
     ]
    }
   ],
   "source": [
    "\"\"\"How much light can we shine at the camera?\n",
    "we know:\n",
    "- the camera's quantum efficiency - 35%\n",
    "- the camera's pixel size - 6.45um\n",
    "- the cameras full well depth - 16000 electrons\n",
    "- minimum exposure time - 1us\n",
    "- the power in a gaussian beam of 2cm diameter magnifified by 3 on a pixel\n",
    "\n",
    "so find out if we throw more than the full well depth at the cameras highest pixel\n",
    "\"\"\"\n",
    "import numpy as np\n",
    "\n",
    "camera_full_well_depth = 16000 # electrons\n",
    "camera_quantum_efficiency = 0.35\n",
    "camera_exposure_time = 1*ms\n",
    "\n",
    "# power in the central 6.45um pixel of a rad=10mm 1/e^2 gaussian beam (then imaged down 3x)\n",
    "# integral 2D gaussian beam e^-(r)^2 * 2*Pi*r*dr\n",
    "# from 0 to r=(6.45um/3.333mm) = 0.0000117652\n",
    "# from 0 to r = 1.9859\n",
    "\n",
    "full_well_photons = 16000/camera_quantum_efficiency\n",
    "overexposed_photons = full_well_photons * 1.9859 / 0.0000117652\n",
    "overexposed_energy = overexposed_photons * 2.547e-19  # J\n",
    "overexposed_power = overexposed_energy / camera_exposure_time  # W\n",
    "\n",
    "print(f\"max power before the camera cries is {overexposed_power/uW:.2f}uW if exposed for {camera_exposure_time/us:.2f}us\")"
   ]
  },
  {
   "cell_type": "markdown",
   "metadata": {},
   "source": [
    "We will pull the data straight out of the Artiq master dataset so expect some wrangling to get it looking nice"
   ]
  },
  {
   "cell_type": "code",
   "execution_count": 7,
   "metadata": {},
   "outputs": [],
   "source": [
    "import asyncio\n",
    "from sipyco.sync_struct import Subscriber\n",
    "\n",
    "# Create an asyncio Event to wait for updates\n",
    "dataset_updated = asyncio.Event()\n",
    "\n",
    "async def connect_subscriber(name, db: dict, port=None, server=None):\n",
    "    port = 3250 if port is None else port\n",
    "    server = \"137.222.69.28\" if server is None else server\n",
    "\n",
    "    def _create(data):\n",
    "        db.update(data)\n",
    "        return db\n",
    "\n",
    "    def _update(mod):\n",
    "        # Signal that an update has occurred\n",
    "        dataset_updated.set()\n",
    "\n",
    "    subscriber = Subscriber(name, _create, _update, None)\n",
    "    try:\n",
    "        await subscriber.connect(\n",
    "            server,\n",
    "            port,\n",
    "        )\n",
    "    except asyncio.TimeoutError:\n",
    "        print(f\"Failed to connect to Sub: {name} at {server}:{port}\")\n",
    "        return\n",
    "    print(f\"Connected to Sub: {name} at {server}:{port}\")\n",
    "    return subscriber\n"
   ]
  },
  {
   "cell_type": "markdown",
   "metadata": {},
   "source": [
    "This is the absoroption image fitting class"
   ]
  },
  {
   "cell_type": "code",
   "execution_count": 8,
   "metadata": {},
   "outputs": [
    {
     "name": "stdout",
     "output_type": "stream",
     "text": [
      "Connected to Sub: datasets at 137.222.69.28:3250\n",
      "Received dataset update!\n"
     ]
    }
   ],
   "source": [
    "# Run the connection in an asyncio event loop\n",
    "db = {}\n",
    "sub = await connect_subscriber(\"datasets\", db)\n",
    "await dataset_updated.wait()\n",
    "# await sub.close()\n",
    "print(\"Received dataset update!\")"
   ]
  },
  {
   "cell_type": "code",
   "execution_count": 9,
   "metadata": {},
   "outputs": [
    {
     "ename": "KeyError",
     "evalue": "'Images.absorption.TOF'",
     "output_type": "error",
     "traceback": [
      "\u001b[0;31m---------------------------------------------------------------------------\u001b[0m",
      "\u001b[0;31mKeyError\u001b[0m                                  Traceback (most recent call last)",
      "Cell \u001b[0;32mIn[9], line 5\u001b[0m\n\u001b[1;32m      2\u001b[0m sys\u001b[38;5;241m.\u001b[39mpath\u001b[38;5;241m.\u001b[39mappend(os\u001b[38;5;241m.\u001b[39mpath\u001b[38;5;241m.\u001b[39mabspath(\u001b[38;5;124m\"\u001b[39m\u001b[38;5;124m../\u001b[39m\u001b[38;5;124m\"\u001b[39m))\n\u001b[1;32m      3\u001b[0m \u001b[38;5;28;01mfrom\u001b[39;00m\u001b[38;5;250m \u001b[39m\u001b[38;5;21;01mrepository\u001b[39;00m\u001b[38;5;21;01m.\u001b[39;00m\u001b[38;5;21;01mimaging\u001b[39;00m\u001b[38;5;21;01m.\u001b[39;00m\u001b[38;5;21;01mabsorption_image\u001b[39;00m\u001b[38;5;250m \u001b[39m\u001b[38;5;28;01mimport\u001b[39;00m AbsImage\n\u001b[0;32m----> 5\u001b[0m data \u001b[38;5;241m=\u001b[39m \u001b[43mdb\u001b[49m\u001b[43m[\u001b[49m\u001b[38;5;124;43m\"\u001b[39;49m\u001b[38;5;124;43mImages.absorption.TOF\u001b[39;49m\u001b[38;5;124;43m\"\u001b[39;49m\u001b[43m]\u001b[49m[\u001b[38;5;241m1\u001b[39m]\n\u001b[1;32m      6\u001b[0m ref \u001b[38;5;241m=\u001b[39m db[\u001b[38;5;124m\"\u001b[39m\u001b[38;5;124mImages.absorption.REF\u001b[39m\u001b[38;5;124m\"\u001b[39m][\u001b[38;5;241m1\u001b[39m]\n\u001b[1;32m      7\u001b[0m bg \u001b[38;5;241m=\u001b[39m db[\u001b[38;5;124m\"\u001b[39m\u001b[38;5;124mImages.absorption.BG\u001b[39m\u001b[38;5;124m\"\u001b[39m][\u001b[38;5;241m1\u001b[39m]\n",
      "\u001b[0;31mKeyError\u001b[0m: 'Images.absorption.TOF'"
     ]
    }
   ],
   "source": [
    "import sys, os\n",
    "sys.path.append(os.path.abspath(\"../\"))\n",
    "from repository.imaging.absorption_image import AbsImage\n",
    "\n",
    "data = db[\"Images.absorption.TOF\"][1]\n",
    "ref = db[\"Images.absorption.REF\"][1]\n",
    "bg = db[\"Images.absorption.BG\"][1]\n",
    "\n",
    "abs_img = AbsImage(data, ref, bg, magnification=0.5)\n",
    "\n",
    "# abs_img=AbsImage.fake(10)\n",
    "\n",
    "_ = abs_img.plot()"
   ]
  },
  {
   "cell_type": "code",
   "execution_count": null,
   "metadata": {},
   "outputs": [],
   "source": [
    "\"\"\"\n",
    "TOF:\n",
    "\n",
    "fit x: np.square(self.independent_var + config.repump_time)\n",
    "fit y: np.square(self.sigma_x) and np.square(self.sigma_y)\n",
    "\n",
    "temp = slope * shot.atom_mass / KB\n",
    "\n",
    "use centroids instead of fitted locations for nicer results when held?\n",
    "\n",
    "\"\"\""
   ]
  }
 ],
 "metadata": {
  "kernelspec": {
   "display_name": "artiq",
   "language": "python",
   "name": "python3"
  },
  "language_info": {
   "codemirror_mode": {
    "name": "ipython",
    "version": 3
   },
   "file_extension": ".py",
   "mimetype": "text/x-python",
   "name": "python",
   "nbconvert_exporter": "python",
   "pygments_lexer": "ipython3",
   "version": "3.10.14"
  }
 },
 "nbformat": 4,
 "nbformat_minor": 2
}
