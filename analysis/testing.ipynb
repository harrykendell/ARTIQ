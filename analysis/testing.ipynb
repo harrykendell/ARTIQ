{
 "cells": [
  {
   "cell_type": "code",
   "execution_count": 1,
   "metadata": {},
   "outputs": [],
   "source": [
    "import sys, os\n",
    "__file__ = os.path.abspath(\"\")\n",
    "sys.path.append(__file__.split(\"artiq\")[0] + \"artiq\")\n",
    "from repository.models.devices import SUServoedBeam\n"
   ]
  },
  {
   "cell_type": "code",
   "execution_count": 2,
   "metadata": {},
   "outputs": [],
   "source": [
    "sb = SUServoedBeam[\"MOT\"]\n",
    "sb.servo_enabled = False\n",
    "sb.initial_amplitude = 0.333\n",
    "sb.to_file(filepath=\"../repository/models/devices.py\")"
   ]
  }
 ],
 "metadata": {
  "kernelspec": {
   "display_name": "artiq",
   "language": "python",
   "name": "python3"
  },
  "language_info": {
   "codemirror_mode": {
    "name": "ipython",
    "version": 3
   },
   "file_extension": ".py",
   "mimetype": "text/x-python",
   "name": "python",
   "nbconvert_exporter": "python",
   "pygments_lexer": "ipython3",
   "version": "3.10.14"
  }
 },
 "nbformat": 4,
 "nbformat_minor": 2
}
