{
 "cells": [
  {
   "cell_type": "code",
   "execution_count": 2,
   "metadata": {},
   "outputs": [],
   "source": [
    "# Define SI unit prefixes\n",
    "nm = nHz = nA = nV = nW = 1e-9\n",
    "um = uHz = uA = uV = uW = 1e-6\n",
    "mm = mHz = mA = mV = mW = 1e-3\n",
    "cm = 1e2\n",
    "Hz = A = V = W = 1\n",
    "kHz = kA = kV = kW = 1e3\n",
    "MHz = MA = MV = MW = 1e6\n",
    "GHz = GA = GV = GW = 1e9"
   ]
  },
  {
   "cell_type": "code",
   "execution_count": 11,
   "metadata": {},
   "outputs": [
    {
     "name": "stdout",
     "output_type": "stream",
     "text": [
      "Focal length = 10.67 mm\n",
      "variation = 7.57 mm -> 14.27 mm\n"
     ]
    }
   ],
   "source": [
    "# fiber coupling lens\n",
    "import numpy as np\n",
    "\n",
    "wavelength = 780.24*nm # Rb87\n",
    "\n",
    "mode_field_diameter = 5.3*um # Thorlabs P3-780PM-FC-* fiber\n",
    "mfd_variation = 1.0 * um  # Thorlabs P3-780PM-FC-* fiber\n",
    "# mode_field_diameter = 4.0 * um  # Jenoptik EOM bowtie\n",
    "# mfd_variation = 0.5 * um  # estimated as not quoted - Jenoptik EOM bowtie\n",
    "\n",
    "input_diameter = 2.0 * mm  # input collimated beam diameter - 1/e^2\n",
    "id_variation = 0.25 * mm\n",
    "\n",
    "min_focal_length = np.pi * (input_diameter - id_variation) * (mode_field_diameter - mfd_variation) / (4 * wavelength)\n",
    "focal_length = np.pi * input_diameter * mode_field_diameter / (4 * wavelength)\n",
    "max_focal_length = np.pi * (input_diameter + id_variation) * (mode_field_diameter + mfd_variation) / (4 * wavelength)\n",
    "\n",
    "print(f\"Focal length = {focal_length/mm:.2f} mm\\nvariation = {min_focal_length/mm:.2f} mm -> {max_focal_length/mm:.2f} mm\")"
   ]
  },
  {
   "cell_type": "code",
   "execution_count": 21,
   "metadata": {},
   "outputs": [
    {
     "name": "stdout",
     "output_type": "stream",
     "text": [
      "mode field area = 2.206e-15 cm^2\n",
      "max power = 0.00 W\n"
     ]
    }
   ],
   "source": [
    "#damage threshold\n",
    "theoretical_max = 1 * MW/cm**2\n",
    "practical_max = 250 * kW/cm**2\n",
    "\n",
    "area = np.pi * (mode_field_diameter/2)**2\n",
    "\n",
    "print(f\"mode field area = {area/(cm**2):.3e} cm^2\")\n",
    "\n",
    "print(f\"max power = {theoretical_max * area:.2f} W\")"
   ]
  }
 ],
 "metadata": {
  "kernelspec": {
   "display_name": "artiq",
   "language": "python",
   "name": "python3"
  },
  "language_info": {
   "codemirror_mode": {
    "name": "ipython",
    "version": 3
   },
   "file_extension": ".py",
   "mimetype": "text/x-python",
   "name": "python",
   "nbconvert_exporter": "python",
   "pygments_lexer": "ipython3",
   "version": "3.10.14"
  }
 },
 "nbformat": 4,
 "nbformat_minor": 2
}
